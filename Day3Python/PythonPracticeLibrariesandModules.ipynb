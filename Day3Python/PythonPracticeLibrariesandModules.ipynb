{
 "cells": [
  {
   "cell_type": "code",
   "execution_count": 66,
   "metadata": {
    "collapsed": true
   },
   "outputs": [],
   "source": [
    "#We are going to use numpy (numerical python) arrays and tools, and matplotlib (mathmatical plotting library)\n",
    "\n",
    "import numpy as np\n",
    "from matplotlib import pyplot as plt\n",
    "import math\n",
    "import pandas as pd"
   ]
  },
  {
   "cell_type": "code",
   "execution_count": 2,
   "metadata": {
    "collapsed": true
   },
   "outputs": [],
   "source": [
    "%matplotlib inline"
   ]
  },
  {
   "cell_type": "code",
   "execution_count": 28,
   "metadata": {},
   "outputs": [],
   "source": [
    "x1=1\n",
    "x2=10\n",
    "\n",
    "xarray = np.arange(x1,x2+1)"
   ]
  },
  {
   "cell_type": "code",
   "execution_count": 15,
   "metadata": {},
   "outputs": [],
   "source": [
    "yarray = xarray*2"
   ]
  },
  {
   "cell_type": "code",
   "execution_count": 29,
   "metadata": {},
   "outputs": [
    {
     "data": {
      "text/plain": [
       "array([ 1,  2,  3,  4,  5,  6,  7,  8,  9, 10])"
      ]
     },
     "execution_count": 29,
     "metadata": {},
     "output_type": "execute_result"
    }
   ],
   "source": [
    "xarray"
   ]
  },
  {
   "cell_type": "code",
   "execution_count": 30,
   "metadata": {},
   "outputs": [
    {
     "data": {
      "text/plain": [
       "array([ 2,  4,  6,  8, 10, 12, 14, 16, 18, 20])"
      ]
     },
     "execution_count": 30,
     "metadata": {},
     "output_type": "execute_result"
    }
   ],
   "source": [
    "yarray"
   ]
  },
  {
   "cell_type": "code",
   "execution_count": 33,
   "metadata": {
    "collapsed": true
   },
   "outputs": [],
   "source": [
    "#Two different ways to use exponents - don't use the ^ cause that doesn't work\n",
    "#zarray = xarray**3\n",
    "zarray = np.power(xarray, 3)"
   ]
  },
  {
   "cell_type": "code",
   "execution_count": 34,
   "metadata": {},
   "outputs": [
    {
     "data": {
      "text/plain": [
       "array([   1,    8,   27,   64,  125,  216,  343,  512,  729, 1000])"
      ]
     },
     "execution_count": 34,
     "metadata": {},
     "output_type": "execute_result"
    }
   ],
   "source": [
    "zarray"
   ]
  },
  {
   "cell_type": "code",
   "execution_count": 39,
   "metadata": {},
   "outputs": [
    {
     "data": {
      "text/plain": [
       "[<matplotlib.lines.Line2D at 0x108eb7910>]"
      ]
     },
     "execution_count": 39,
     "metadata": {},
     "output_type": "execute_result"
    },
    {
     "data": {
      "image/png": "[encoded data removed]",
      "text/plain": [
       "<matplotlib.figure.Figure at 0x1090022d0>"
      ]
     },
     "metadata": {},
     "output_type": "display_data"
    }
   ],
   "source": [
    "plt.plot(xarray,yarray)"
   ]
  },
  {
   "cell_type": "code",
   "execution_count": 65,
   "metadata": {},
   "outputs": [
    {
     "data": {
      "image/png": "[encoded data removed]",
      "text/plain": [
       "<matplotlib.figure.Figure at 0x10e9f0890>"
      ]
     },
     "metadata": {},
     "output_type": "display_data"
    }
   ],
   "source": [
    "e = math.exp(1)\n",
    "\n",
    "plt.plot(xarray,zarray)\n",
    "plt.yscale(u'log',basey=e)"
   ]
  },
  {
   "cell_type": "code",
   "execution_count": 55,
   "metadata": {},
   "outputs": [
    {
     "name": "stdout",
     "output_type": "stream",
     "text": [
      "Help on function yscale in module matplotlib.pyplot:\n",
      "\n",
      "yscale(*args, **kwargs)\n",
      "    Set the scaling of the *y*-axis.\n",
      "    \n",
      "    call signature::\n",
      "    \n",
      "      yscale(scale, **kwargs)\n",
      "    \n",
      "    The available scales are: u'linear' | u'log' | u'logit' | u'symlog'\n",
      "    \n",
      "    Different keywords may be accepted, depending on the scale:\n",
      "    \n",
      "        'linear'\n",
      "    \n",
      "            \n",
      "    \n",
      "    \n",
      "        'log'\n",
      "    \n",
      "            *basex*/*basey*:\n",
      "               The base of the logarithm\n",
      "            \n",
      "            *nonposx*/*nonposy*: ['mask' | 'clip' ]\n",
      "              non-positive values in *x* or *y* can be masked as\n",
      "              invalid, or clipped to a very small positive number\n",
      "            \n",
      "            *subsx*/*subsy*:\n",
      "               Where to place the subticks between each major tick.\n",
      "               Should be a sequence of integers.  For example, in a log10\n",
      "               scale: ``[2, 3, 4, 5, 6, 7, 8, 9]``\n",
      "            \n",
      "               will place 8 logarithmically spaced minor ticks between\n",
      "               each major tick.\n",
      "    \n",
      "    \n",
      "        'logit'\n",
      "    \n",
      "            *nonpos*: ['mask' | 'clip' ]\n",
      "              values beyond ]0, 1[ can be masked as invalid, or clipped to a number\n",
      "              very close to 0 or 1\n",
      "    \n",
      "    \n",
      "        'symlog'\n",
      "    \n",
      "            *basex*/*basey*:\n",
      "               The base of the logarithm\n",
      "            \n",
      "            *linthreshx*/*linthreshy*:\n",
      "              A single float which defines the range (-*x*, *x*), within\n",
      "              which the plot is linear. This avoids having the plot go to\n",
      "              infinity around zero.\n",
      "            \n",
      "            *subsx*/*subsy*:\n",
      "               Where to place the subticks between each major tick.\n",
      "               Should be a sequence of integers.  For example, in a log10\n",
      "               scale: ``[2, 3, 4, 5, 6, 7, 8, 9]``\n",
      "            \n",
      "               will place 8 logarithmically spaced minor ticks between\n",
      "               each major tick.\n",
      "            \n",
      "            *linscalex*/*linscaley*:\n",
      "               This allows the linear range (-*linthresh* to *linthresh*)\n",
      "               to be stretched relative to the logarithmic range.  Its\n",
      "               value is the number of decades to use for each half of the\n",
      "               linear range.  For example, when *linscale* == 1.0 (the\n",
      "               default), the space used for the positive and negative\n",
      "               halves of the linear range will be equal to one decade in\n",
      "               the logarithmic range.\n",
      "\n"
     ]
    }
   ],
   "source": [
    "help(plt.yscale)"
   ]
  },
  {
   "cell_type": "code",
   "execution_count": 81,
   "metadata": {},
   "outputs": [],
   "source": [
    "#We will use pandas (short: pd) to read in a data set\n",
    "\n",
    "data = pd.read_csv('data/linear_data.dat', sep=' ')"
   ]
  },
  {
   "cell_type": "code",
   "execution_count": 82,
   "metadata": {},
   "outputs": [
    {
     "data": {
      "text/html": [
       "<div>\n",
       "<style>\n",
       "    .dataframe thead tr:only-child th {\n",
       "        text-align: right;\n",
       "    }\n",
       "\n",
       "    .dataframe thead th {\n",
       "        text-align: left;\n",
       "    }\n",
       "\n",
       "    .dataframe tbody tr th {\n",
       "        vertical-align: top;\n",
       "    }\n",
       "</style>\n",
       "<table border=\"1\" class=\"dataframe\">\n",
       "  <thead>\n",
       "    <tr style=\"text-align: right;\">\n",
       "      <th></th>\n",
       "      <th>xaxis</th>\n",
       "      <th>yaxis</th>\n",
       "    </tr>\n",
       "  </thead>\n",
       "  <tbody>\n",
       "    <tr>\n",
       "      <th>0</th>\n",
       "      <td>1</td>\n",
       "      <td>2</td>\n",
       "    </tr>\n",
       "    <tr>\n",
       "      <th>1</th>\n",
       "      <td>2</td>\n",
       "      <td>4</td>\n",
       "    </tr>\n",
       "    <tr>\n",
       "      <th>2</th>\n",
       "      <td>3</td>\n",
       "      <td>6</td>\n",
       "    </tr>\n",
       "    <tr>\n",
       "      <th>3</th>\n",
       "      <td>4</td>\n",
       "      <td>8</td>\n",
       "    </tr>\n",
       "    <tr>\n",
       "      <th>4</th>\n",
       "      <td>5</td>\n",
       "      <td>10</td>\n",
       "    </tr>\n",
       "    <tr>\n",
       "      <th>5</th>\n",
       "      <td>6</td>\n",
       "      <td>12</td>\n",
       "    </tr>\n",
       "    <tr>\n",
       "      <th>6</th>\n",
       "      <td>7</td>\n",
       "      <td>14</td>\n",
       "    </tr>\n",
       "    <tr>\n",
       "      <th>7</th>\n",
       "      <td>8</td>\n",
       "      <td>16</td>\n",
       "    </tr>\n",
       "    <tr>\n",
       "      <th>8</th>\n",
       "      <td>9</td>\n",
       "      <td>18</td>\n",
       "    </tr>\n",
       "    <tr>\n",
       "      <th>9</th>\n",
       "      <td>10</td>\n",
       "      <td>20</td>\n",
       "    </tr>\n",
       "  </tbody>\n",
       "</table>\n",
       "</div>"
      ],
      "text/plain": [
       "   xaxis  yaxis\n",
       "0      1      2\n",
       "1      2      4\n",
       "2      3      6\n",
       "3      4      8\n",
       "4      5     10\n",
       "5      6     12\n",
       "6      7     14\n",
       "7      8     16\n",
       "8      9     18\n",
       "9     10     20"
      ]
     },
     "execution_count": 82,
     "metadata": {},
     "output_type": "execute_result"
    }
   ],
   "source": [
    "data"
   ]
  },
  {
   "cell_type": "code",
   "execution_count": 92,
   "metadata": {},
   "outputs": [
    {
     "data": {
      "text/plain": [
       "[<matplotlib.lines.Line2D at 0x113241e90>]"
      ]
     },
     "execution_count": 92,
     "metadata": {},
     "output_type": "execute_result"
    },
    {
     "data": {
      "image/png": "[encoded data removed]",
      "text/plain": [
       "<matplotlib.figure.Figure at 0x11318e210>"
      ]
     },
     "metadata": {},
     "output_type": "display_data"
    }
   ],
   "source": [
    "plt.plot(data.xaxis, data.yaxis)"
   ]
  },
  {
   "cell_type": "code",
   "execution_count": 88,
   "metadata": {},
   "outputs": [
    {
     "name": "stdout",
     "output_type": "stream",
     "text": [
      "0     1\n",
      "1     2\n",
      "2     3\n",
      "3     4\n",
      "4     5\n",
      "5     6\n",
      "6     7\n",
      "7     8\n",
      "8     9\n",
      "9    10\n",
      "Name: xaxis, dtype: int64\n"
     ]
    }
   ],
   "source": [
    "xaxis = data.xaxis\n",
    "print(xaxis)"
   ]
  },
  {
   "cell_type": "code",
   "execution_count": 89,
   "metadata": {},
   "outputs": [
    {
     "name": "stdout",
     "output_type": "stream",
     "text": [
      "0     2\n",
      "1     4\n",
      "2     6\n",
      "3     8\n",
      "4    10\n",
      "5    12\n",
      "6    14\n",
      "7    16\n",
      "8    18\n",
      "9    20\n",
      "Name: yaxis, dtype: int64\n"
     ]
    }
   ],
   "source": [
    "yaxis = data.yaxis\n",
    "print(yaxis)"
   ]
  },
  {
   "cell_type": "code",
   "execution_count": 105,
   "metadata": {},
   "outputs": [
    {
     "data": {
      "image/png": "[encoded data removed]",
      "text/plain": [
       "<matplotlib.figure.Figure at 0x11379d1d0>"
      ]
     },
     "metadata": {},
     "output_type": "display_data"
    }
   ],
   "source": [
    "plt.plot(xaxis[:3], yaxis[:3])\n",
    "plt.xlabel('Example x-axis', fontsize='xx-large')\n",
    "plt.ylabel('Example y-axis', fontsize='xx-large')\n",
    "\n",
    "plt.savefig('Figures/figure.png')"
   ]
  },
  {
   "cell_type": "markdown",
   "metadata": {},
   "source": [
    "# Lets talk through an overall workflow\n",
    "## (1) I/O: Input and output of data\n",
    "## (2) Manipulation of the data (cutting, correlating, quantitative action on data)\n",
    "## (3) Visualization of the output of manipulated data"
   ]
  },
  {
   "cell_type": "code",
   "execution_count": 106,
   "metadata": {},
   "outputs": [
    {
     "ename": "TypeError",
     "evalue": "Required argument 'start' (pos 1) not found",
     "output_type": "error",
     "traceback": [
      "\u001b[0;31m---------------------------------------------------------------------------\u001b[0m",
      "\u001b[0;31mTypeError\u001b[0m                                 Traceback (most recent call last)",
      "\u001b[0;32m<ipython-input-106-b09dc730931f>\u001b[0m in \u001b[0;36m<module>\u001b[0;34m()\u001b[0m\n\u001b[0;32m----> 1\u001b[0;31m \u001b[0mnp\u001b[0m\u001b[0;34m.\u001b[0m\u001b[0marange\u001b[0m\u001b[0;34m(\u001b[0m\u001b[0;34m)\u001b[0m\u001b[0;34m\u001b[0m\u001b[0m\n\u001b[0m",
      "\u001b[0;31mTypeError\u001b[0m: Required argument 'start' (pos 1) not found"
     ]
    }
   ],
   "source": [
    "np.arange()"
   ]
  },
  {
   "cell_type": "code",
   "execution_count": null,
   "metadata": {
    "collapsed": true
   },
   "outputs": [],
   "source": []
  }
 ],
 "metadata": {
  "kernelspec": {
   "display_name": "Python 2",
   "language": "python",
   "name": "python2"
  },
  "language_info": {
   "codemirror_mode": {
    "name": "ipython",
    "version": 2
   },
   "file_extension": ".py",
   "mimetype": "text/x-python",
   "name": "python",
   "nbconvert_exporter": "python",
   "pygments_lexer": "ipython2",
   "version": "2.7.14"
  }
 },
 "nbformat": 4,
 "nbformat_minor": 2
}
